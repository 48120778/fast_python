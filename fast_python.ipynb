{
 "cells": [
  {
   "cell_type": "code",
   "execution_count": null,
   "metadata": {},
   "outputs": [],
   "source": [
    "import random, time\n",
    "import numpy as np\n",
    "import pandas as pd\n",
    "import multiprocessing as mp\n",
    "import numba as nb"
   ]
  },
  {
   "cell_type": "markdown",
   "metadata": {},
   "source": [
    "# Topics\n",
    "\n",
    "0. Python Functions\n",
    "1. Multiprocessing\n",
    "2. NumPy\n",
    "3. Pandas\n",
    "4. Cython\n",
    "5. Numba"
   ]
  },
  {
   "cell_type": "markdown",
   "metadata": {},
   "source": [
    "## Python Functions\n"
   ]
  },
  {
   "cell_type": "markdown",
   "metadata": {},
   "source": [
    "```\n",
    "def function_name(optional_parameters):\n",
    "    function_code\n",
    "    return optional_return_variables\n",
    "```\n",
    "\n",
    "Functions encapsulate a set of instructions that can be reused. The following tips for faster Python all benefit from writing code that is well functionalized. Further, using functions are generally a good coding practice as they allow for the blocks of code to be written once and then reused many times. Then if the code needs to be updated it only needs to be updated once and not many times."
   ]
  },
  {
   "cell_type": "code",
   "execution_count": null,
   "metadata": {},
   "outputs": [],
   "source": [
    "def monte_carlo_pi(points):\n",
    "    s = 0\n",
    "    for _ in range(points):\n",
    "        x = random.random()**2\n",
    "        y = random.random()**2\n",
    "        if x + y < 1:\n",
    "            s += 1\n",
    "    return 4. * float(s) / float(points)"
   ]
  },
  {
   "cell_type": "code",
   "execution_count": null,
   "metadata": {},
   "outputs": [],
   "source": [
    "print(monte_carlo_pi(10000000))"
   ]
  }
 ],
 "metadata": {
  "kernelspec": {
   "display_name": "Python 3",
   "language": "python",
   "name": "python3"
  },
  "language_info": {
   "codemirror_mode": {
    "name": "ipython",
    "version": 3
   },
   "file_extension": ".py",
   "mimetype": "text/x-python",
   "name": "python",
   "nbconvert_exporter": "python",
   "pygments_lexer": "ipython3",
   "version": "3.6.7"
  }
 },
 "nbformat": 4,
 "nbformat_minor": 2
}
