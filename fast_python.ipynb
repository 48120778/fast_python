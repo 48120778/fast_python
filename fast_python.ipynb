{
 "cells": [
  {
   "cell_type": "code",
   "execution_count": null,
   "metadata": {},
   "outputs": [],
   "source": [
    "import random, time, statistics\n",
    "import numpy as np\n",
    "import pandas as pd\n",
    "import multiprocessing as mp\n",
    "import numba as nb"
   ]
  },
  {
   "cell_type": "markdown",
   "metadata": {},
   "source": [
    "# Topics\n",
    "\n",
    "0. Python Functions\n",
    "1. Multiprocessing\n",
    "2. NumPy\n",
    "3. Pandas\n",
    "4. Cython\n",
    "5. Numba"
   ]
  },
  {
   "cell_type": "markdown",
   "metadata": {},
   "source": [
    "## Python Functions\n"
   ]
  },
  {
   "cell_type": "markdown",
   "metadata": {},
   "source": [
    "```\n",
    "def function_name(optional_parameters):\n",
    "    function_code\n",
    "    return optional_return_variables\n",
    "```\n",
    "\n",
    "Functions encapsulate a set of instructions that can be reused. The following tips for faster Python all benefit from writing code that is well functionalized. Further, using functions are generally a good coding practice as they allow for the blocks of code to be written once and then reused many times. Then if the code needs to be updated it only needs to be updated once and not many times.\n",
    "\n",
    "### Example: Functions estimating π via a Monte-Carlo algorithm"
   ]
  },
  {
   "cell_type": "code",
   "execution_count": null,
   "metadata": {},
   "outputs": [],
   "source": [
    "def monte_carlo_pi(points):\n",
    "    s = 0\n",
    "    for _ in range(points):\n",
    "        x = random.random()**2\n",
    "        y = random.random()**2\n",
    "        if x + y < 1:\n",
    "            s += 1\n",
    "    return 4. * float(s) / float(points)\n",
    "\n",
    "def sample_points(p):\n",
    "    s = []\n",
    "    for i in range(p):\n",
    "        s.append(monte_carlo_pi(10**p))\n",
    "    return s\n",
    "\n",
    "def print_sample(s):\n",
    "    for p in s:\n",
    "        print(p)"
   ]
  },
  {
   "cell_type": "code",
   "execution_count": null,
   "metadata": {},
   "outputs": [],
   "source": [
    "print_sample(sample_points(7))"
   ]
  },
  {
   "cell_type": "markdown",
   "metadata": {},
   "source": [
    "### Task: Create functions estimating π via a Gauss–Legendre algorithm\n",
    "\n",
    "Initial:\n",
    "\n",
    "$a_0 = 1$\n",
    "\n",
    "$b_0 = \\frac{1}{\\sqrt{2}}$\n",
    "\n",
    "$t_0 = \\frac{1}{4}$\n",
    "\n",
    "$p_0 = 1$\n",
    "\n",
    "Loop until $a_{n}$ and $b_{n}$ difference meets threashold:\n",
    "\n",
    "$a_{n+1} = \\frac{a_{n}+b_{n}}{2}$\n",
    "\n",
    "$b_{n+1} = \\sqrt{a_{n}b_{n}}$\n",
    "\n",
    "$t_{n+1} = t_{n}-p_{n}\\sqrt{a_{n}-a_{n+1}}$\n",
    "\n",
    "$p_{n+1} = 2p_{n}$\n",
    "\n",
    "$\\pi \\approx \\frac{(a_{n+1}+b_{n+1})^2}{4t_{n+1}}$"
   ]
  }
 ],
 "metadata": {
  "kernelspec": {
   "display_name": "Python 3",
   "language": "python",
   "name": "python3"
  },
  "language_info": {
   "codemirror_mode": {
    "name": "ipython",
    "version": 3
   },
   "file_extension": ".py",
   "mimetype": "text/x-python",
   "name": "python",
   "nbconvert_exporter": "python",
   "pygments_lexer": "ipython3",
   "version": "3.6.7"
  }
 },
 "nbformat": 4,
 "nbformat_minor": 2
}
